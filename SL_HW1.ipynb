{
  "cells": [
    {
      "cell_type": "markdown",
      "metadata": {
        "id": "nq4P4a3arI_D"
      },
      "source": [
        "# Introduction to Machine Learning via Nearest Neighbours\n"
      ]
    },
    {
      "cell_type": "markdown",
      "metadata": {
        "id": "Jea5opSRvd0C"
      },
      "source": [
        "## Part 1 - Implement k-Nearest Neighbours (kNN) - 30 points\n",
        "\n",
        "### Note:\n",
        "This exercise closely follows the post by Scott Fortmann-Roe about bias-variance tradeoff (see references below). It is recommended that you think about each of the questions before referring to that essay.\n",
        "\n",
        "In this exercise you will get familiar with a **non-parapmetric** learning algorithm called k-Nearest Neighbours (kNN), and will implement it. You will then analyse the bias-variance tradeoff and try to come up with the optimal kNN classifier for the given data.\n",
        "\n",
        "For this exercise we will use hypothetical and artificial generated data.\n",
        "### Nearest Neighbours\n",
        "The kNN algorithm is simple - given a labeled sample set data, and a new sample, predict the label of this sample by using majority vote (or averaging) over the labels of the k-nearest neighbour of the new data in the sample set.\n",
        "\n",
        "For this task, assume each data point is an n-dimensional point in $\\mathbb{R}^n$, and each label is either 0 or 1.\n",
        "\n",
        "Implement a class called KNNClassifier and two methods:\n",
        "- `fit`: should recieve the training data (an array of shape [n_samples, n_features]) and their labels (array of shape [n_samples]).\n",
        "- `predict`: should recieve a set of data (an array of shape [n_samples, n_features]) and **return** their predicted labels (array of shape [n_samples]).\n",
        "\n",
        "Use simple Euclidean distance to measure the distance between two points. In case two points in the training have the same distance from a given point to predict, the nearest would be the one appearing first in the training set.\n",
        "\n",
        "Use majority vote between all kNN of a point to predict its label. In case the vote of all kNN is tied, you may predict whichever label you wish.\n",
        "\n",
        "You may look up [sklearn.neighbors.KNeighborsClassifier](http://scikit-learn.org/stable/modules/generated/sklearn.neighbors.KNeighborsClassifier.html) for reference.\n",
        "\n",
        "* Bonus for nurdes: use kd-tree for efficiency, see [nearest neighbour search in wiki](https://en.wikipedia.org/wiki/Nearest_neighbor_search)\n",
        "\n",
        "* Bonus for lazy nurdes: use [scipy's kd implementation](https://docs.scipy.org/doc/scipy-0.14.0/reference/generated/scipy.spatial.KDTree.html)"
      ]
    },
    {
      "cell_type": "code",
      "execution_count": 5,
      "metadata": {
        "colab": {
          "base_uri": "https://localhost:8080/",
          "height": 134
        },
        "id": "aYhDJRDPrH7f",
        "outputId": "24283ab7-ae89-46be-c57b-35b05e4af292"
      },
      "outputs": [],
      "source": [
        "def euclideanDist(f1, f2):\n",
        "    dist = 0.0\n",
        "    for i in range(len(f1)):\n",
        "        dist += abs(f1[i] - f2[i])**2\n",
        "    return dist**(1/2)\n",
        "\n",
        "class kNNClassifier:\n",
        "  def __init__(self, n_neighbors):\n",
        "    self.n_neighbors = n_neighbors\n",
        "  def fit(self, X, y):\n",
        "    # your code goes here\n",
        "    self.data = X\n",
        "    self.labels = y\n",
        "  def predict(self, X):\n",
        "    # your code goes here\n",
        "    self.tdata = X\n",
        "    self.tlabels = []\n",
        "    for td in self.tdata:\n",
        "      kNearest, distances, labels = [], [], []\n",
        "      #Build lists containing first n_neighbors examples and their distances\n",
        "      for i in range(self.n_neighbors):\n",
        "          kNearest.append(self.data[i])\n",
        "          distances.append(euclideanDist(td, self.data[i]))\n",
        "          labels.append(self.labels[i])\n",
        "      maxDist = max(distances) #Get maximum distance\n",
        "      #Look at examples not yet considered\n",
        "      for d, l in zip(self.data[self.n_neighbors:], self.labels[self.n_neighbors:]):\n",
        "          dist = euclideanDist(td, d) \n",
        "          if dist < maxDist:\n",
        "              #replace farther neighbor by this one\n",
        "              maxIndex = distances.index(maxDist)\n",
        "              kNearest[maxIndex] = d\n",
        "              distances[maxIndex] = dist\n",
        "              labels[maxIndex] = l\n",
        "              maxDist = max(distances)   \n",
        "      self.tlabels.append(max(labels, key=labels.count))   \n",
        "    return self.tlabels\n",
        "\n"
      ]
    },
    {
      "cell_type": "code",
      "execution_count": 9,
      "metadata": {},
      "outputs": [],
      "source": [
        "k1 = kNNClassifier(3)"
      ]
    },
    {
      "cell_type": "code",
      "execution_count": 7,
      "metadata": {},
      "outputs": [],
      "source": [
        "k1.fit([[1,2],[2,1],[5,6], [7,8]],['r', 'r', 'b', 'b'])"
      ]
    },
    {
      "cell_type": "code",
      "execution_count": 8,
      "metadata": {},
      "outputs": [
        {
          "data": {
            "text/plain": [
              "['r', 'b']"
            ]
          },
          "execution_count": 8,
          "metadata": {},
          "output_type": "execute_result"
        }
      ],
      "source": [
        "k1.predict([[2,2], [6, 6]])"
      ]
    },
    {
      "cell_type": "code",
      "execution_count": null,
      "metadata": {},
      "outputs": [],
      "source": [
        "t = ['r', 'r', 'b']\n",
        "max(t, key=t.count)"
      ]
    },
    {
      "cell_type": "code",
      "execution_count": null,
      "metadata": {},
      "outputs": [],
      "source": [
        "zip([[1,2],[2,1],[5,6], [7,8]],['r', 'r', 'b', 'b'])"
      ]
    },
    {
      "cell_type": "code",
      "execution_count": null,
      "metadata": {},
      "outputs": [],
      "source": [
        "def findKNearest(example, exampleSet, k):\n",
        "    kNearest, distances = [], []\n",
        "    #Build lists containing first k examples and their distances\n",
        "    for i in range(k):\n",
        "        kNearest.append(exampleSet[i])\n",
        "        distances.append(example.distance(exampleSet[i]))\n",
        "    maxDist = max(distances) #Get maximum distance\n",
        "    #Look at examples not yet considered\n",
        "    for e in exampleSet[k:]:\n",
        "        dist = example.distance(e)\n",
        "        if dist < maxDist:\n",
        "            #replace farther neighbor by this one\n",
        "            maxIndex = distances.index(maxDist)\n",
        "            kNearest[maxIndex] = e\n",
        "            distances[maxIndex] = dist\n",
        "            maxDist = max(distances)      \n",
        "    return kNearest, distances\n",
        "\n",
        "def KNearestClassify(training, testSet, label, k):\n",
        "    \"\"\"Assumes training & testSet lists of examples, k an int\n",
        "       Predicts whether each example in testSet has label\n",
        "       Returns number of true positives, false positives,\n",
        "          true negatives, and false negatives\"\"\"\n",
        "    truePos, falsePos, trueNeg, falseNeg = 0, 0, 0, 0\n",
        "    for testCase in testSet:\n",
        "        nearest, distances = findKNearest(testCase, training, k)\n",
        "        #conduct vote\n",
        "        numMatch = 0\n",
        "        for i in range(len(nearest)):\n",
        "            if nearest[i].getLabel() == label:\n",
        "                numMatch += 1\n",
        "        if numMatch > k//2: #guess label\n",
        "            if testCase.getLabel() == label:\n",
        "                truePos += 1\n",
        "            else:\n",
        "                falsePos += 1\n",
        "        else: #guess not label\n",
        "            if testCase.getLabel() != label:\n",
        "                trueNeg += 1\n",
        "            else:\n",
        "                falseNeg += 1\n",
        "    return truePos, falsePos, trueNeg, falseNeg"
      ]
    },
    {
      "cell_type": "markdown",
      "metadata": {
        "id": "D0vc5yNF0fcP"
      },
      "source": [
        "## Part 2 - Learn and evaluate kNN algorithm on artificial data\n",
        "\n",
        "kNN is a **non-parametric** in the sense that no inner parameter of the model is learned by the sample training set (or maybe you could say that the number of parameters increases with the size of the sample set). However, the number of neighbours **k is considered a hyper-parameter**, and choosing the optimal value for it, is choosing the balance between bias and variance as discussed in class.\n",
        "\n",
        "\n"
      ]
    },
    {
      "cell_type": "markdown",
      "metadata": {
        "id": "lagz0mWyIXMY"
      },
      "source": [
        "### An applied example: voter party registration\n",
        "\n",
        "In this example, each voter is described by a vector of two features $(x_0, x_1)$, where $x_0$ describes how wealthy that voter is, and $x_1$ describes how religious the voter is. Label $y=1$ represents a Republican voter, and $y=-1$ represents a Democrat voter.\n",
        "\n",
        "Use the given function `generate_data(m)` to create m samples with m labels. The labels are created using the following function:\n",
        "\n",
        "$$\n",
        "y = \\text{sign}\\left(x_1 - 0.1\\times((x_0-5)^3-x_0^2+(x_0 − 6)^2+80)\\right)\n",
        "$$\n",
        "\n",
        "and then a small fraction of the labels (chosen randomly, up to 10%) are flipped to represent unknown effect of features which are not measured. The sign of 0 is defined as 1 for this case.\n",
        "\n",
        "\n",
        "Below is an example of generating 500 samples, and plotting them."
      ]
    },
    {
      "cell_type": "code",
      "execution_count": 10,
      "metadata": {
        "id": "eWtEiM4-4zGV"
      },
      "outputs": [],
      "source": [
        "import numpy as np\n",
        "import matplotlib.pyplot as plt\n",
        "\n",
        "def true_boundary_voting_pred(wealth, religiousness):\n",
        "  return religiousness-0.1*((wealth-5)**3-wealth**2+(wealth-6)**2+80)\n",
        "\n",
        "def generate_data(m, seed=None):\n",
        "  # if seed is not None, this function will always generate the same data\n",
        "  np.random.seed(seed)\n",
        "\n",
        "  X = np.random.uniform(low=0.0, high=10.0, size=(m,2))\n",
        "  y = np.sign(true_boundary_voting_pred(X[:,0], X[:,1]))\n",
        "  y[y==0] = 1\n",
        "  samples_to_flip = np.random.randint(0,m//10)\n",
        "  flip_ind = np.random.choice(m, samples_to_flip, replace=False)\n",
        "  y[flip_ind] = -y[flip_ind]\n",
        "  return X, y\n",
        "\n",
        "def plot_labeled_data(X, y, no_titles=False):\n",
        "  republicans = (y==1)\n",
        "  democrats = (y==-1)\n",
        "  plt.scatter(X[republicans,0], X[republicans,1], c='r')\n",
        "  plt.scatter(X[democrats,0], X[democrats,1], c='b')\n",
        "  if not no_titles:\n",
        "    plt.xlabel('Wealth')\n",
        "    plt.ylabel('Religiousness')\n",
        "    plt.title('Red circles represent Republicans, Blues Democrats')\n",
        "\n",
        "  plt.xlim([0, 10]);\n",
        "  plt.ylim([0, 10]);\n",
        "  plt.plot(np.linspace(0,10,1000), -true_boundary_voting_pred(np.linspace(0,10,1000), np.zeros(1000)), linewidth=2, c='k');"
      ]
    },
    {
      "cell_type": "code",
      "execution_count": 11,
      "metadata": {
        "colab": {
          "base_uri": "https://localhost:8080/",
          "height": 295
        },
        "id": "xJZoePpgG64y",
        "outputId": "052cfb9c-4bd8-4723-b895-a3d42f46cb8c"
      },
      "outputs": [
        {
          "data": {
            "image/png": "[encoded data removed]",
            "text/plain": [
              "<Figure size 640x480 with 1 Axes>"
            ]
          },
          "metadata": {},
          "output_type": "display_data"
        }
      ],
      "source": [
        "# Play this several times to see different sampling sets\n",
        "X, y = generate_data(m=500)\n",
        "plot_labeled_data(X, y)"
      ]
    },
    {
      "cell_type": "markdown",
      "metadata": {
        "id": "hbU1ivU23EJO"
      },
      "source": [
        "\n",
        "### 1. Analyse the properties of kNN - 30 points\n",
        "Generate multiple sample data sets of size 500 (use the given function above), and plot the decision plane for increasing values of k (e.g.: 1, 3, 5, 11, 21, 51, 99).\n",
        "\n",
        "The decision plane should cover the range [0,10] for both axes, coloring the patches that would be classified as Republicans or Democrats in two colors. It should look something like this:\n",
        "\n",
        "![decision plane](https://doc-14-14-docs.googleusercontent.com/docs/securesc/flg80o8vb463a3nd3i6da8hemig5me1b/hvii8ll4dscju8o17vuo2aab9aei8hgr/1543334400000/11934753179242311747/03422859225809857490/1chmyojft_R6ftfBhoPZuGN9AykyUS-cw?e=view&nonce=4i4j8lssjk6kc&user=03422859225809857490&hash=k9ogjg94ssot1vocu8uoeg4okkeekg6f)\n",
        "\n",
        "https://drive.google.com/file/d/1chmyojft_R6ftfBhoPZuGN9AykyUS-cw/view?usp=sharing\n",
        "\n",
        "Answer the following questions:\n",
        "- How is the decision plain affected from changes in the sample set, as a function of k?\n",
        "- Can you describe when do you underfit or overfit the data?\n",
        "- How does the complexity of this model depends on k?\n",
        "\n",
        "* Bonus for nurdes:\n",
        "Use interactive slider for k to see the effect [see [interact](https://ipywidgets.readthedocs.io/en/stable/examples/Using%20Interact.html)]"
      ]
    },
    {
      "cell_type": "code",
      "execution_count": null,
      "metadata": {
        "id": "DHJTKo8RMSfA"
      },
      "outputs": [],
      "source": [
        "# code goes here"
      ]
    },
    {
      "cell_type": "markdown",
      "metadata": {
        "id": "syIXUqP-MSfK"
      },
      "source": [
        "Text goes here..."
      ]
    },
    {
      "cell_type": "markdown",
      "metadata": {
        "id": "9FAvgN2R28F9"
      },
      "source": [
        "### 2. Finding the optimal k - 15 points\n",
        "Sample a single sample set of size 1000 and divide it randomly to train (0.6) / validation (0.2) / test (0.2) sets. Plot the train vs validation error for several k values, and choose the best k. Where do you underfit/overfit the data? Finally, estimate the generalization error of your chosen classifier using the test set. What would happen if you optimize directly on test? is the optimal k the same?\n"
      ]
    },
    {
      "cell_type": "code",
      "execution_count": null,
      "metadata": {
        "id": "J7XNvwa-K1sQ"
      },
      "outputs": [],
      "source": [
        "# code goes here"
      ]
    },
    {
      "cell_type": "markdown",
      "metadata": {
        "id": "d5bS6ekxK14_"
      },
      "source": [
        "Text goes here..."
      ]
    },
    {
      "cell_type": "markdown",
      "metadata": {
        "id": "2uHY-ECb2-nt"
      },
      "source": [
        "### 3. Using cross validation - 25 points\n",
        "This time, put the test data aside (0.2 of the data), and apply 5-fold CV on the remaining data to evaluate the performance of each k value.\n",
        "What is the size of the validation and train set now, in each CV iteration?\n",
        "Did your final model selection change? Explain why."
      ]
    },
    {
      "cell_type": "code",
      "execution_count": null,
      "metadata": {
        "id": "BVMhcG3UMOgM"
      },
      "outputs": [],
      "source": [
        "# code goes here"
      ]
    },
    {
      "cell_type": "markdown",
      "metadata": {
        "id": "4pNy88oY1fIR"
      },
      "source": [
        "## References\n",
        "- http://scott.fortmann-roe.com/docs/BiasVariance.html\n",
        "- http://scott.fortmann-roe.com/docs/MeasuringError.html\n",
        "- http://scikit-learn.org/stable/modules/cross_validation.html"
      ]
    }
  ],
  "metadata": {
    "colab": {
      "provenance": []
    },
    "kernelspec": {
      "display_name": "Python 3",
      "name": "python3"
    },
    "language_info": {
      "codemirror_mode": {
        "name": "ipython",
        "version": 3
      },
      "file_extension": ".py",
      "mimetype": "text/x-python",
      "name": "python",
      "nbconvert_exporter": "python",
      "pygments_lexer": "ipython3",
      "version": "3.10.13"
    }
  },
  "nbformat": 4,
  "nbformat_minor": 0
}
