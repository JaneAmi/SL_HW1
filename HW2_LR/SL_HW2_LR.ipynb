{
  "cells": [
    {
      "cell_type": "markdown",
      "metadata": {
        "id": "chEqqJbLzFew"
      },
      "source": [
        "# Ydata Data Science School\n",
        "## Linear Regression & Regularization Exercise.\n",
        "\n",
        "\n",
        "## Outline\n",
        "In this exercise you will learn the following topics:\n",
        "\n",
        "1. Refresher on how linear regression is solved in batch and in Gradient Descent\n",
        "2. Implementation of Ridge Regression\n",
        "3. Comparing Ridge, Lasso and vanila Linear Regression on a dataset"
      ]
    },
    {
      "cell_type": "markdown",
      "metadata": {
        "id": "mR9UFmk2greT"
      },
      "source": [
        "## Refresher on Ordinary Least Square (OLS) aka Linear Regeression\n",
        "\n",
        "### Lecture Note\n",
        "\n",
        "In Matrix notation, the matrix $X$ is of dimensions $n \\times p$ where each row is an example and each column is a feature dimension.\n",
        "\n",
        "Similarily, $y$ is of dimension $n \\times 1$ and $w$ is of dimensions $p \\times 1$.\n",
        "\n",
        "The model is $\\hat{y}=X\\cdot w$ where we assume for simplicity that $X$'s first columns equals to 1 (one padding), to account for the bias term.\n",
        "\n",
        "Our objective is to optimize the loss $L$ defines as resiudal sum of squares (RSS):\n",
        "\n",
        "$L_{RSS}=\\frac{1}{N}\\left\\Vert Xw-y \\right\\Vert^2$ (notice that in matrix notation this means summing over all examples, so $L$ is scalar.)\n",
        "\n",
        "To find the optimal $w$ one needs to derive the loss with respect to $w$.\n",
        "\n",
        "$\\frac{\\partial{L_{RSS}}}{\\partial{w}}=\\frac{2}{N}X^T(Xw-y)$ (to see why, read about [matrix derivatives](http://www.gatsby.ucl.ac.uk/teaching/courses/sntn/sntn-2017/resources/Matrix_derivatives_cribsheet.pdf) or see class notes )\n",
        "\n",
        "Thus, the gardient descent solution is $w'=w-\\alpha \\frac{2}{N}X^T(Xw-y)$.\n",
        "\n",
        "Solving $\\frac{\\partial{L_{RSS}}}{\\partial{w}}=0$ for $w$ one can also get analytical solution:\n",
        "\n",
        "$w_{OLS}=(X^TX)^{-1}X^Ty$\n",
        "\n",
        "The first term, $(X^TX)^{-1}X^T$ is also called the pseudo inverse of $X$.\n",
        "\n",
        "See [lecture note from Stanford](https://web.stanford.edu/~mrosenfe/soc_meth_proj3/matrix_OLS_NYU_notes.pdf) for more details.\n"
      ]
    },
    {
      "cell_type": "markdown",
      "metadata": {
        "id": "JA3MEKz80vdy"
      },
      "source": [
        "## Exercise 1 - Ordinary Least Square\n",
        "* Get the boston housing dataset https://www.cs.toronto.edu/~delve/data/boston/bostonDetail.html\n",
        "\n",
        "* What is $p$? what is $n$ in the above notation? hint: [shape](https://docs.scipy.org/doc/numpy-1.15.0/reference/generated/numpy.ndarray.shape.html)\n",
        "\n",
        "* write a model `OrdinaryLinearRegression` which has a propoery $w$ and 3 methods: `fit`, `predict` and `score` (which returns the MSE on a given sample set). Hint: use [numpy.linalg.pinv](https://docs.scipy.org/doc/numpy-1.15.1/reference/generated/numpy.linalg.pinv.html) to be more efficient.\n",
        "\n",
        "* Fit the model. What is the training MSE?\n",
        "\n",
        "* Plot a scatter plot where on x-axis plot $Y$ and in the y-axis $\\hat{Y}_{OLS}$\n",
        "\n",
        "* Split the data to 75% train and 25% test 20 times. What is the average MSE now for train and test? Hint: use [train_test_split](http://scikit-learn.org/stable/modules/generated/sklearn.model_selection.train_test_split.html) or [ShuffleSplit](http://scikit-learn.org/stable/modules/generated/sklearn.model_selection.ShuffleSplit.html).\n",
        "\n",
        "* Use a t-test to proove that the MSE for training is significantly smaller than for testing. What is the p-value? Hint: use [scipy.stats.ttest_rel](https://docs.scipy.org/doc/scipy-0.14.0/reference/generated/scipy.stats.ttest_rel.html).\n",
        "\n",
        "* Write a new class `OrdinaryLinearRegressionGradientDescent` which inherits from `OrdinaryLinearRegression` and solves the problem using gradinet descent. The class should get as a parameter the learning rate and number of iteration. Plot the class convergance. What is the effect of learning rate? How would you find number of iteration automatically? Note: Gradient Descent does not work well when features are not scaled evenly (why?!). Be sure to normalize your features first.\n",
        "\n",
        "* The following parameters are optional (not mandatory to use):\n",
        "    * early_stop - True / False boolean to indicate to stop running when loss stops decaying and False to continue.\n",
        "    * verbose- True/False boolean to turn on / off logging, e.g. print details like iteration number and loss (https://en.wikipedia.org/wiki/Verbose_mode)\n",
        "    * track_loss - True / False boolean when to save loss results to present later in learning curve graphs"
      ]
    },
    {
      "cell_type": "code",
      "execution_count": 74,
      "metadata": {},
      "outputs": [],
      "source": [
        "import pandas as pd\n",
        "import numpy as np\n",
        "import matplotlib.pyplot as plt\n",
        "import seaborn as sns\n",
        "from sklearn.model_selection import train_test_split\n",
        "from scipy import stats"
      ]
    },
    {
      "cell_type": "code",
      "execution_count": 218,
      "metadata": {},
      "outputs": [],
      "source": [
        "# * write a model `Ols` which has a propoery $w$ and 3 methods: `fit`, `predict` and `score`.? hint: use [numpy.linalg.pinv](https://docs.scipy.org/doc/numpy-1.15.1/reference/generated/numpy.linalg.pinv.html) to be more efficient.\n",
        "\n",
        "class Ols(object):\n",
        "    def __init__(self):\n",
        "        self.w = None\n",
        "\n",
        "    @staticmethod\n",
        "    def pad(X):\n",
        "        # Add a column of ones to the feature matrix for the intercept term\n",
        "        return np.c_[np.ones(X.shape[0]), X]\n",
        "\n",
        "    def fit(self, X, Y):\n",
        "        # Remember to pad with 1 before fitting\n",
        "        if isinstance(Y, np.ndarray) is False:\n",
        "            Y = np.array(Y).T[0]      \n",
        "        self._fit(X, Y)\n",
        "\n",
        "    def _fit(self, X, Y):\n",
        "        # Calculate the coefficients using the normal equation\n",
        "        X_padded = self.pad(np.array(X))  \n",
        "        self.w = np.linalg.pinv(X_padded) @ Y\n",
        "\n",
        "    def predict(self, X):\n",
        "        # Return Xw\n",
        "        return self._predict(X)\n",
        "\n",
        "    def _predict(self, X):\n",
        "        # Predict the target variable\n",
        "        X_padded = self.pad(np.array(X))\n",
        "        return X_padded @ self.w\n",
        "\n",
        "    def score(self, X, Y):\n",
        "        # Return MSE\n",
        "        if isinstance(Y, np.ndarray) is False:\n",
        "            Y = np.array(Y).T[0]\n",
        "        Y_pred = self.predict(X)\n",
        "        mse = np.mean((Y - Y_pred) ** 2)\n",
        "        return mse"
      ]
    },
    {
      "cell_type": "code",
      "execution_count": null,
      "metadata": {
        "id": "B689kXfa1eit"
      },
      "outputs": [],
      "source": [
        "# Write a new class OlsGd which solves the problem using gradinet descent.\n",
        "# The class should get as a parameter the learning rate and number of iteration.\n",
        "# Plot the loss convergance. for each alpha, learning rate plot the MSE with respect to number of iterations.\n",
        "# What is the effect of learning rate?\n",
        "# How would you find number of iteration automatically?\n",
        "# Note: Gradient Descent does not work well when features are not scaled evenly (why?!). Be sure to normalize your feature first.\n",
        "class Normalizer():\n",
        "  def __init__(self):\n",
        "    pass\n",
        "\n",
        "  def fit(self, X):\n",
        "    pass\n",
        "\n",
        "  def predict(self, X):\n",
        "    #apply normalization\n",
        "    pass\n",
        "\n",
        "class OlsGd(Ols):\n",
        "\n",
        "  def __init__(self, learning_rate=.05,\n",
        "               num_iteration=1000,\n",
        "               normalize=True,\n",
        "               early_stop=True,\n",
        "               verbose=True):\n",
        "\n",
        "    super(OlsGd, self).__init__()\n",
        "    self.learning_rate = learning_rate\n",
        "    self.num_iteration = num_iteration\n",
        "    self.early_stop = early_stop\n",
        "    self.normalize = normalize\n",
        "    self.normalizer = Normalizer()\n",
        "    self.verbose = verbose\n",
        "\n",
        "  def _fit(self, X, Y, reset=True, track_loss=True):\n",
        "    #remeber to normalize the data before starting\n",
        "    pass\n",
        "\n",
        "  def _predict(self, X):\n",
        "    #remeber to normalize the data before starting\n",
        "    pass\n",
        "\n",
        "  def _step(self, X, Y):\n",
        "    # use w update for gradient descent\n",
        "    pass"
      ]
    },
    {
      "cell_type": "code",
      "execution_count": 44,
      "metadata": {},
      "outputs": [],
      "source": [
        "def remove_newline_odd(fp, ofp):\n",
        "    # Open the file and read the content\n",
        "    with open(fp, 'r') as file:\n",
        "        lines = file.readlines()\n",
        "\n",
        "    modified_lines = [line.rstrip('\\n') if index % 2 == 0 else line for index, line in enumerate(lines)]\n",
        "    lines = ''.join(modified_lines)\n",
        "    s_lines = lines.split('\\n')\n",
        "\n",
        "    f_lines = [','.join(re.split(r'\\s+', line[1:])) for line in s_lines]\n",
        "    \n",
        "    with open(ofp, 'w') as output_file:\n",
        "        output_file.write(\"CRIM,ZN,INDUS,CHAS,NOX,RM,AGE,DIS,RAD,TAX,PTRATIO,B,LSTAT,MEDV\\n\")\n",
        "        for l in f_lines:\n",
        "            output_file.write(f\"{l}\\n\")\n",
        "    \n",
        "\n",
        "# Specify the file path\n",
        "file_path = 'boston_n.txt' \n",
        "remove_newline_odd('boston_n.txt', 'boston_fin.txt')\n"
      ]
    },
    {
      "cell_type": "code",
      "execution_count": 3,
      "metadata": {},
      "outputs": [
        {
          "data": {
            "text/plain": [
              "(506, 14)"
            ]
          },
          "execution_count": 3,
          "metadata": {},
          "output_type": "execute_result"
        }
      ],
      "source": [
        "df = pd.read_csv('boston_fin.txt')\n",
        "df.shape"
      ]
    },
    {
      "cell_type": "code",
      "execution_count": 208,
      "metadata": {},
      "outputs": [
        {
          "name": "stdout",
          "output_type": "stream",
          "text": [
            "(506, 13)\n"
          ]
        }
      ],
      "source": [
        "data_url = \"http://lib.stat.cmu.edu/datasets/boston\"\n",
        "raw_df = pd.read_csv(data_url, sep=\"\\s+\", skiprows=22, header=None)\n",
        "data = np.hstack([raw_df.values[::2, :], raw_df.values[1::2, :2]])\n",
        "target = raw_df.values[1::2, 2]\n",
        "\n",
        "print(data.shape)"
      ]
    },
    {
      "cell_type": "markdown",
      "metadata": {},
      "source": [
        "* What is $p$? what is $n$ in the above notation? hint: [shape](https://docs.scipy.org/doc/numpy-1.15.0/reference/generated/numpy.ndarray.shape.html)<br>\n",
        "p = 14<br>\n",
        "n = 506"
      ]
    },
    {
      "cell_type": "code",
      "execution_count": 166,
      "metadata": {},
      "outputs": [
        {
          "name": "stdout",
          "output_type": "stream",
          "text": [
            "Mean Squared Error on the test set: 22.362700963625556\n"
          ]
        }
      ],
      "source": [
        "X_train = df.iloc[:,:-1]\n",
        "y_train = df.iloc[:,-1:]\n",
        "\n",
        "# Create an instance of Ols\n",
        "model = Ols()\n",
        "\n",
        "# Train the model\n",
        "model.fit(X_train, y_train)\n",
        "\n",
        "# Make predictions on the test set\n",
        "y_pred = model.predict(X_train)\n",
        "\n",
        "# Evaluate the model's performance using MSE\n",
        "mse = model.score(X_train, y_train)\n",
        "\n",
        "print(f'Mean Squared Error on the test set: {mse}')"
      ]
    },
    {
      "cell_type": "code",
      "execution_count": 116,
      "metadata": {},
      "outputs": [
        {
          "name": "stderr",
          "output_type": "stream",
          "text": [
            "c:\\Users\\USER\\anaconda3\\envs\\py4dp\\lib\\site-packages\\seaborn\\_oldcore.py:1498: FutureWarning: is_categorical_dtype is deprecated and will be removed in a future version. Use isinstance(dtype, CategoricalDtype) instead\n",
            "  if pd.api.types.is_categorical_dtype(vector):\n",
            "c:\\Users\\USER\\anaconda3\\envs\\py4dp\\lib\\site-packages\\seaborn\\_oldcore.py:1498: FutureWarning: is_categorical_dtype is deprecated and will be removed in a future version. Use isinstance(dtype, CategoricalDtype) instead\n",
            "  if pd.api.types.is_categorical_dtype(vector):\n"
          ]
        },
        {
          "data": {
            "image/png": "[encoded data removed]",
            "text/plain": [
              "<Figure size 640x480 with 1 Axes>"
            ]
          },
          "metadata": {},
          "output_type": "display_data"
        }
      ],
      "source": [
        "sns.scatterplot(x=np.array(y_train).T[0], y=y_pred)\n",
        "plt.xlabel(\"Actual Values\")\n",
        "plt.ylabel(\"Predicted Values\")\n",
        "plt.title(\"Scatter Plot of Actual vs Predicted Values\")\n",
        "plt.show()"
      ]
    },
    {
      "cell_type": "code",
      "execution_count": 115,
      "metadata": {},
      "outputs": [
        {
          "name": "stdout",
          "output_type": "stream",
          "text": [
            "Average Train MSE: 21.75601798017897\n",
            "Average Test MSE: 25.70208103947154\n"
          ]
        }
      ],
      "source": [
        "train_mse = []\n",
        "test_mse = []\n",
        "for _ in range(20):\n",
        "    X_train_n,  X_test, y_train_n, y_test = train_test_split(X_train, y_train, test_size=0.25)\n",
        "    model_n = Ols()\n",
        "\n",
        "    # Train the model\n",
        "    model.fit(X_train_n, y_train_n)\n",
        "\n",
        "    # Evaluate the model's performance using MSE\n",
        "    test_mse.append(model.score(X_test, y_test))\n",
        "    train_mse.append(model.score(X_train_n, y_train_n))\n",
        "\n",
        "a_train_mse = np.array(train_mse)\n",
        "a_test_mse = np.array(test_mse)\n",
        "print(f'Average Train MSE: {a_train_mse.mean()}')\n",
        "print(f'Average Test MSE: {a_test_mse.mean()}')"
      ]
    },
    {
      "cell_type": "code",
      "execution_count": 117,
      "metadata": {},
      "outputs": [
        {
          "data": {
            "text/plain": [
              "TtestResult(statistic=-2.801963426666516, pvalue=0.0113749082867426, df=19)"
            ]
          },
          "execution_count": 117,
          "metadata": {},
          "output_type": "execute_result"
        }
      ],
      "source": [
        "# Use a t-test to proove that the MSE for training is significantly smaller than for testing. What is the p-value? \n",
        "stats.ttest_rel(a_train_mse, a_test_mse)"
      ]
    },
    {
      "cell_type": "markdown",
      "metadata": {},
      "source": [
        "p-value = 1.1%, it is sufficiently low, hence we can conclude that the MSE for training is significantly smaller than for testing set"
      ]
    },
    {
      "cell_type": "code",
      "execution_count": 205,
      "metadata": {},
      "outputs": [],
      "source": [
        "class Normalizer:\n",
        "    def __init__(self):\n",
        "        self.mean = None\n",
        "        self.std = None\n",
        "\n",
        "    def fit(self, X):\n",
        "        self.mean = X.mean(axis=0)\n",
        "        self.std = X.std(axis=0)\n",
        "\n",
        "    def predict(self, X):\n",
        "        return (X - self.mean) / self.std\n",
        "\n",
        "class OlsGd(Ols):\n",
        "\n",
        "    def __init__(self, learning_rate=0.05, num_iterations=1000, normalize=True, early_stop=True, verbose=True):\n",
        "        super(OlsGd, self).__init__()\n",
        "        self.learning_rate = learning_rate\n",
        "        self.num_iterations = num_iterations\n",
        "        self.early_stop = early_stop\n",
        "        self.normalize = normalize\n",
        "        self.normalizer = Normalizer()\n",
        "        self.verbose = verbose\n",
        "        self.loss_history = []\n",
        "\n",
        "    def _fit(self, X, Y, reset=True, track_loss=True):\n",
        "        if reset:\n",
        "            self.w = None\n",
        "\n",
        "        if self.normalize:\n",
        "            self.normalizer.fit(X)\n",
        "            X = self.normalizer.predict(X)\n",
        "        \n",
        "        X_padded = self.pad(np.array(X)) \n",
        "\n",
        "        if self.w is None:\n",
        "            self.w = np.zeros(X_padded.shape[1])\n",
        "\n",
        "        for i in range(self.num_iterations):\n",
        "            loss = self._step(X_padded, Y)\n",
        "            self.loss_history.append(loss)\n",
        "\n",
        "            if self.verbose and i % 100 == 0:\n",
        "                print(f'Iteration {i}, Loss: {loss}')\n",
        "\n",
        "            if self.early_stop and i > 0 and np.abs(self.loss_history[-1] - self.loss_history[-2]) < 1e-5:\n",
        "                if self.verbose:\n",
        "                    print(f'Early stopping at iteration {i}')\n",
        "                break\n",
        "\n",
        "    def _predict(self, X):\n",
        "        if self.normalize:\n",
        "            X = self.normalizer.predict(X)\n",
        "        return super()._predict(X)\n",
        "\n",
        "    def _step(self, X, Y):\n",
        "        self.w = self.w - self.learning_rate * (1/X.shape[0]) * (X @ self.w - Y) @ X\n",
        "        loss = np.mean((X @ self.w - Y)**2)\n",
        "        return loss\n",
        "    \n",
        "    def plot_convergence(self):\n",
        "        loss_history = self.loss_history\n",
        "        plt.plot(range(1, len(loss_history) + 1), loss_history)\n",
        "        plt.xlabel('Iteration')\n",
        "        plt.ylabel('Mean Squared Error')\n",
        "        plt.title('Convergence')\n",
        "        plt.show()"
      ]
    },
    {
      "cell_type": "code",
      "execution_count": 207,
      "metadata": {},
      "outputs": [
        {
          "name": "stdout",
          "output_type": "stream",
          "text": [
            "Iteration 0, Loss: 587.316885329975\n",
            "Iteration 100, Loss: 94.48048997667955\n",
            "Iteration 200, Loss: 32.85116991598115\n",
            "Iteration 300, Loss: 24.225736846618535\n",
            "Iteration 400, Loss: 22.78543499451052\n",
            "Iteration 500, Loss: 22.3922524023629\n",
            "Iteration 600, Loss: 22.19423772694632\n",
            "Iteration 700, Loss: 22.059349894740016\n",
            "Iteration 800, Loss: 21.95883579929351\n",
            "Iteration 900, Loss: 21.88156120681593\n"
          ]
        },
        {
          "data": {
            "image/png": "[encoded data removed]",
            "text/plain": [
              "<Figure size 640x480 with 1 Axes>"
            ]
          },
          "metadata": {},
          "output_type": "display_data"
        },
        {
          "name": "stdout",
          "output_type": "stream",
          "text": [
            "Mean Squared Error on the test set (Gradient Descent): 25.186967933437582\n"
          ]
        }
      ],
      "source": [
        "# Create an instance of OrdinaryLinearRegressionGradientDescent\n",
        "model_gd = OlsGd(learning_rate=0.01, num_iterations=1000)\n",
        "\n",
        "# Train the model using gradient descent\n",
        "model_gd.fit(X_train_n, y_train_n)\n",
        "\n",
        "# Plot the convergence\n",
        "model_gd.plot_convergence()\n",
        "\n",
        "# Make predictions on the test set\n",
        "y_pred_gd = model_gd.predict(X_test)\n",
        "\n",
        "# Evaluate the model's performance using MSE\n",
        "mse_gd = model_gd.score(X_test, y_test)\n",
        "\n",
        "print(f'Mean Squared Error on the test set (Gradient Descent): {mse_gd}')"
      ]
    },
    {
      "cell_type": "markdown",
      "metadata": {
        "id": "7HVfnXvZFi98"
      },
      "source": [
        "## Exercise 2 - Ridge Linear Regression\n",
        "\n",
        "Recall that ridge regression is identical to OLS but with a L2 penalty over the weights:\n",
        "\n",
        "$L(y,\\hat{y})=\\sum_{i=1}^{i=N}{(y^{(i)}-\\hat{y}^{(i)})^2} + \\lambda \\left\\Vert w \\right\\Vert_2^2$\n",
        "\n",
        "where $y^{(i)}$ is the **true** value and $\\hat{y}^{(i)}$ is the **predicted** value of the $i_{th}$ example, and $N$ is the number of examples\n",
        "\n",
        "* Show, by differentiating the above loss, that the analytical solution is $w_{Ridge}=(X^TX+\\lambda I)^{-1}X^Ty$\n",
        "* Change `OrdinaryLinearRegression` and `OrdinaryLinearRegressionGradientDescent` classes to work also for ridge regression. Either add a parameter, or use inheritance.\n",
        "* **Bonus: Noise as a regularizer**: Show that OLS (ordinary least square), if one adds multiplicative noise to the features the **average** solution for $W$ is equivalent to Ridge regression. In other words, if $X'= X*G$ where $G$ is an uncorrelated noise with variance $\\sigma$ and mean 1, then solving for $X'$ with OLS is like solving Ridge for $X$. What is the interpretation?\n",
        "\n"
      ]
    },
    {
      "cell_type": "code",
      "execution_count": null,
      "metadata": {
        "id": "x4v0foNX1eiu"
      },
      "outputs": [],
      "source": [
        "class RidgeLs(Ols):\n",
        "  def __init__(self, ridge_lambda, *wargs, **kwargs):\n",
        "    super(RidgeLs,self).__init__(*wargs, **kwargs)\n",
        "    self.ridge_lambda = ridge_lambda\n",
        "\n",
        "  def _fit(self, X, Y):\n",
        "    #Closed form of ridge regression\n",
        "    pass"
      ]
    },
    {
      "cell_type": "markdown",
      "metadata": {
        "id": "fAj1Qxoc1eiu"
      },
      "source": [
        "### Use scikitlearn implementation for OLS, Ridge and Lasso"
      ]
    },
    {
      "cell_type": "code",
      "execution_count": null,
      "metadata": {
        "id": "GozQEKRw1eiu"
      },
      "outputs": [],
      "source": []
    }
  ],
  "metadata": {
    "colab": {
      "provenance": []
    },
    "kernelspec": {
      "display_name": "Python 3",
      "language": "python",
      "name": "python3"
    },
    "language_info": {
      "codemirror_mode": {
        "name": "ipython",
        "version": 3
      },
      "file_extension": ".py",
      "mimetype": "text/x-python",
      "name": "python",
      "nbconvert_exporter": "python",
      "pygments_lexer": "ipython3",
      "version": "3.10.13"
    }
  },
  "nbformat": 4,
  "nbformat_minor": 0
}
