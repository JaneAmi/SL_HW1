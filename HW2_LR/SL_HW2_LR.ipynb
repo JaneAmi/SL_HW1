{
  "cells": [
    {
      "cell_type": "markdown",
      "metadata": {
        "id": "chEqqJbLzFew"
      },
      "source": [
        "# Ydata Data Science School\n",
        "## Linear Regression & Regularization Exercise.\n",
        "\n",
        "\n",
        "## Outline\n",
        "In this exercise you will learn the following topics:\n",
        "\n",
        "1. Refresher on how linear regression is solved in batch and in Gradient Descent\n",
        "2. Implementation of Ridge Regression\n",
        "3. Comparing Ridge, Lasso and vanila Linear Regression on a dataset"
      ]
    },
    {
      "cell_type": "markdown",
      "metadata": {
        "id": "mR9UFmk2greT"
      },
      "source": [
        "## Refresher on Ordinary Least Square (OLS) aka Linear Regeression\n",
        "\n",
        "### Lecture Note\n",
        "\n",
        "In Matrix notation, the matrix $X$ is of dimensions $n \\times p$ where each row is an example and each column is a feature dimension.\n",
        "\n",
        "Similarily, $y$ is of dimension $n \\times 1$ and $w$ is of dimensions $p \\times 1$.\n",
        "\n",
        "The model is $\\hat{y}=X\\cdot w$ where we assume for simplicity that $X$'s first columns equals to 1 (one padding), to account for the bias term.\n",
        "\n",
        "Our objective is to optimize the loss $L$ defines as resiudal sum of squares (RSS):\n",
        "\n",
        "$L_{RSS}=\\frac{1}{N}\\left\\Vert Xw-y \\right\\Vert^2$ (notice that in matrix notation this means summing over all examples, so $L$ is scalar.)\n",
        "\n",
        "To find the optimal $w$ one needs to derive the loss with respect to $w$.\n",
        "\n",
        "$\\frac{\\partial{L_{RSS}}}{\\partial{w}}=\\frac{2}{N}X^T(Xw-y)$ (to see why, read about [matrix derivatives](http://www.gatsby.ucl.ac.uk/teaching/courses/sntn/sntn-2017/resources/Matrix_derivatives_cribsheet.pdf) or see class notes )\n",
        "\n",
        "Thus, the gardient descent solution is $w'=w-\\alpha \\frac{2}{N}X^T(Xw-y)$.\n",
        "\n",
        "Solving $\\frac{\\partial{L_{RSS}}}{\\partial{w}}=0$ for $w$ one can also get analytical solution:\n",
        "\n",
        "$w_{OLS}=(X^TX)^{-1}X^Ty$\n",
        "\n",
        "The first term, $(X^TX)^{-1}X^T$ is also called the pseudo inverse of $X$.\n",
        "\n",
        "See [lecture note from Stanford](https://web.stanford.edu/~mrosenfe/soc_meth_proj3/matrix_OLS_NYU_notes.pdf) for more details.\n"
      ]
    },
    {
      "cell_type": "markdown",
      "metadata": {
        "id": "JA3MEKz80vdy"
      },
      "source": [
        "## Exercise 1 - Ordinary Least Square\n",
        "* Get the boston housing dataset https://www.cs.toronto.edu/~delve/data/boston/bostonDetail.html\n",
        "\n",
        "* What is $p$? what is $n$ in the above notation? hint: [shape](https://docs.scipy.org/doc/numpy-1.15.0/reference/generated/numpy.ndarray.shape.html)\n",
        "\n",
        "* write a model `OrdinaryLinearRegression` which has a propoery $w$ and 3 methods: `fit`, `predict` and `score` (which returns the MSE on a given sample set). Hint: use [numpy.linalg.pinv](https://docs.scipy.org/doc/numpy-1.15.1/reference/generated/numpy.linalg.pinv.html) to be more efficient.\n",
        "\n",
        "* Fit the model. What is the training MSE?\n",
        "\n",
        "* Plot a scatter plot where on x-axis plot $Y$ and in the y-axis $\\hat{Y}_{OLS}$\n",
        "\n",
        "* Split the data to 75% train and 25% test 20 times. What is the average MSE now for train and test? Hint: use [train_test_split](http://scikit-learn.org/stable/modules/generated/sklearn.model_selection.train_test_split.html) or [ShuffleSplit](http://scikit-learn.org/stable/modules/generated/sklearn.model_selection.ShuffleSplit.html).\n",
        "\n",
        "* Use a t-test to proove that the MSE for training is significantly smaller than for testing. What is the p-value? Hint: use [scipy.stats.ttest_rel](https://docs.scipy.org/doc/scipy-0.14.0/reference/generated/scipy.stats.ttest_rel.html).\n",
        "\n",
        "* Write a new class `OrdinaryLinearRegressionGradientDescent` which inherits from `OrdinaryLinearRegression` and solves the problem using gradinet descent. The class should get as a parameter the learning rate and number of iteration. Plot the class convergance. What is the effect of learning rate? How would you find number of iteration automatically? Note: Gradient Descent does not work well when features are not scaled evenly (why?!). Be sure to normalize your features first.\n",
        "\n",
        "* The following parameters are optional (not mandatory to use):\n",
        "    * early_stop - True / False boolean to indicate to stop running when loss stops decaying and False to continue.\n",
        "    * verbose- True/False boolean to turn on / off logging, e.g. print details like iteration number and loss (https://en.wikipedia.org/wiki/Verbose_mode)\n",
        "    * track_loss - True / False boolean when to save loss results to present later in learning curve graphs"
      ]
    },
    {
      "cell_type": "code",
      "execution_count": 1,
      "metadata": {},
      "outputs": [],
      "source": [
        "import pandas as pd\n",
        "import numpy as np\n",
        "import re\n",
        "import matplotlib.pyplot as plt\n",
        "import seaborn as sns\n",
        "from sklearn.model_selection import train_test_split\n",
        "from scipy import stats"
      ]
    },
    {
      "cell_type": "code",
      "execution_count": 2,
      "metadata": {},
      "outputs": [],
      "source": [
        "# * write a model `Ols` which has a propoery $w$ and 3 methods: `fit`, `predict` and `score`.? hint: use [numpy.linalg.pinv](https://docs.scipy.org/doc/numpy-1.15.1/reference/generated/numpy.linalg.pinv.html) to be more efficient.\n",
        "\n",
        "class Ols(object):\n",
        "    def __init__(self):\n",
        "        self.w = None\n",
        "\n",
        "    @staticmethod\n",
        "    def pad(X):\n",
        "        # Add a column of ones to the feature matrix for the intercept term\n",
        "        return np.c_[np.ones(X.shape[0]), X]\n",
        "\n",
        "    def fit(self, X, Y):\n",
        "        # Remember to pad with 1 before fitting\n",
        "        if isinstance(Y, np.ndarray) is False:\n",
        "            Y = np.array(Y).T[0]      \n",
        "        self._fit(X, Y)\n",
        "\n",
        "    def _fit(self, X, Y):\n",
        "        # Calculate the coefficients using the normal equation\n",
        "        X_padded = self.pad(np.array(X))  \n",
        "        self.w = np.linalg.pinv(X_padded) @ Y\n",
        "\n",
        "    def predict(self, X):\n",
        "        # Return Xw\n",
        "        return self._predict(X)\n",
        "\n",
        "    def _predict(self, X):\n",
        "        # Predict the target variable\n",
        "        X_padded = self.pad(np.array(X))\n",
        "        return X_padded @ self.w\n",
        "\n",
        "    def score(self, X, Y):\n",
        "        # Return MSE\n",
        "        if isinstance(Y, np.ndarray) is False:\n",
        "            Y = np.array(Y).T[0]\n",
        "        Y_pred = self.predict(X)\n",
        "        mse = np.mean((Y - Y_pred) ** 2)\n",
        "        return mse"
      ]
    },
    {
      "cell_type": "code",
      "execution_count": 3,
      "metadata": {},
      "outputs": [],
      "source": [
        "def remove_newline_odd(fp, ofp):\n",
        "    # Open the file and read the content\n",
        "    with open(fp, 'r') as file:\n",
        "        lines = file.readlines()\n",
        "\n",
        "    modified_lines = [line.rstrip('\\n') if index % 2 == 0 else line for index, line in enumerate(lines)]\n",
        "    lines = ''.join(modified_lines)\n",
        "    s_lines = lines.split('\\n')\n",
        "\n",
        "    f_lines = [','.join(re.split(r'\\s+', line[1:])) for line in s_lines]\n",
        "    \n",
        "    with open(ofp, 'w') as output_file:\n",
        "        output_file.write(\"CRIM,ZN,INDUS,CHAS,NOX,RM,AGE,DIS,RAD,TAX,PTRATIO,B,LSTAT,MEDV\\n\")\n",
        "        for l in f_lines:\n",
        "            output_file.write(f\"{l}\\n\")\n",
        "    \n",
        "\n",
        "# Specify the file path\n",
        "file_path = 'boston_n.txt' \n",
        "remove_newline_odd('boston_n.txt', 'boston_fin.txt')"
      ]
    },
    {
      "cell_type": "code",
      "execution_count": 4,
      "metadata": {},
      "outputs": [
        {
          "data": {
            "text/plain": [
              "(506, 14)"
            ]
          },
          "execution_count": 4,
          "metadata": {},
          "output_type": "execute_result"
        }
      ],
      "source": [
        "df = pd.read_csv('boston_fin.txt')\n",
        "df.shape"
      ]
    },
    {
      "cell_type": "code",
      "execution_count": null,
      "metadata": {},
      "outputs": [],
      "source": [
        "data_url = \"http://lib.stat.cmu.edu/datasets/boston\"\n",
        "raw_df = pd.read_csv(data_url, sep=\"\\s+\", skiprows=22, header=None)\n",
        "data = np.hstack([raw_df.values[::2, :], raw_df.values[1::2, :2]])\n",
        "target = raw_df.values[1::2, 2]\n",
        "\n",
        "print(data.shape)"
      ]
    },
    {
      "cell_type": "markdown",
      "metadata": {},
      "source": [
        "* What is $p$? what is $n$ in the above notation? hint: [shape](https://docs.scipy.org/doc/numpy-1.15.0/reference/generated/numpy.ndarray.shape.html)<br>\n",
        "p = 13<br>\n",
        "n = 506"
      ]
    },
    {
      "cell_type": "code",
      "execution_count": 5,
      "metadata": {},
      "outputs": [
        {
          "name": "stdout",
          "output_type": "stream",
          "text": [
            "Mean Squared Error on the test set: 22.362700963625556\n"
          ]
        }
      ],
      "source": [
        "X_train = df.iloc[:,:-1]\n",
        "y_train = df.iloc[:,-1:]\n",
        "\n",
        "# Create an instance of Ols\n",
        "model = Ols()\n",
        "\n",
        "# Train the model\n",
        "model.fit(X_train, y_train)\n",
        "\n",
        "# Make predictions on the test set\n",
        "y_pred = model.predict(X_train)\n",
        "\n",
        "# Evaluate the model's performance using MSE\n",
        "mse = model.score(X_train, y_train)\n",
        "\n",
        "print(f'Mean Squared Error on the test set: {mse}')"
      ]
    },
    {
      "cell_type": "code",
      "execution_count": 6,
      "metadata": {},
      "outputs": [
        {
          "name": "stderr",
          "output_type": "stream",
          "text": [
            "c:\\Users\\USER\\anaconda3\\envs\\py4dp\\lib\\site-packages\\seaborn\\_oldcore.py:1498: FutureWarning: is_categorical_dtype is deprecated and will be removed in a future version. Use isinstance(dtype, CategoricalDtype) instead\n",
            "  if pd.api.types.is_categorical_dtype(vector):\n",
            "c:\\Users\\USER\\anaconda3\\envs\\py4dp\\lib\\site-packages\\seaborn\\_oldcore.py:1498: FutureWarning: is_categorical_dtype is deprecated and will be removed in a future version. Use isinstance(dtype, CategoricalDtype) instead\n",
            "  if pd.api.types.is_categorical_dtype(vector):\n"
          ]
        },
        {
          "data": {
            "image/png": "[encoded data removed]",
            "text/plain": [
              "<Figure size 640x480 with 1 Axes>"
            ]
          },
          "metadata": {},
          "output_type": "display_data"
        }
      ],
      "source": [
        "sns.scatterplot(x=np.array(y_train).T[0], y=y_pred)\n",
        "plt.xlabel(\"Actual Values\")\n",
        "plt.ylabel(\"Predicted Values\")\n",
        "plt.title(\"Scatter Plot of Actual vs Predicted Values\")\n",
        "plt.show()"
      ]
    },
    {
      "cell_type": "code",
      "execution_count": 7,
      "metadata": {},
      "outputs": [
        {
          "name": "stdout",
          "output_type": "stream",
          "text": [
            "Average Train MSE: 21.943757124126403\n",
            "Average Test MSE: 25.058352410973704\n"
          ]
        }
      ],
      "source": [
        "train_mse = []\n",
        "test_mse = []\n",
        "for _ in range(20):\n",
        "    X_train_n,  X_test, y_train_n, y_test = train_test_split(X_train, y_train, test_size=0.25)\n",
        "    model_n = Ols()\n",
        "\n",
        "    # Train the model\n",
        "    model.fit(X_train_n, y_train_n)\n",
        "\n",
        "    # Evaluate the model's performance using MSE\n",
        "    test_mse.append(model.score(X_test, y_test))\n",
        "    train_mse.append(model.score(X_train_n, y_train_n))\n",
        "\n",
        "a_train_mse = np.array(train_mse)\n",
        "a_test_mse = np.array(test_mse)\n",
        "print(f'Average Train MSE: {a_train_mse.mean()}')\n",
        "print(f'Average Test MSE: {a_test_mse.mean()}')"
      ]
    },
    {
      "cell_type": "code",
      "execution_count": 9,
      "metadata": {},
      "outputs": [
        {
          "data": {
            "text/plain": [
              "TtestResult(statistic=-2.0624598893680375, pvalue=0.0531066511327671, df=19)"
            ]
          },
          "execution_count": 9,
          "metadata": {},
          "output_type": "execute_result"
        }
      ],
      "source": [
        "# Use a t-test to proove that the MSE for training is significantly smaller than for testing. What is the p-value? \n",
        "stats.ttest_rel(a_train_mse, a_test_mse)"
      ]
    },
    {
      "cell_type": "code",
      "execution_count": 10,
      "metadata": {},
      "outputs": [],
      "source": [
        "class Normalizer:\n",
        "    def __init__(self):\n",
        "        self.mean = None\n",
        "        self.std = None\n",
        "\n",
        "    def fit(self, X):\n",
        "        self.mean = X.mean(axis=0)\n",
        "        self.std = X.std(axis=0)\n",
        "\n",
        "    def predict(self, X):\n",
        "        return (X - self.mean) / self.std\n",
        "\n",
        "class OlsGd(Ols):\n",
        "\n",
        "    def __init__(self, learning_rate=0.05, num_iterations=1000, normalize=True, early_stop=True, verbose=True):\n",
        "        super(OlsGd, self).__init__()\n",
        "        self.learning_rate = learning_rate\n",
        "        self.num_iterations = num_iterations\n",
        "        self.early_stop = early_stop\n",
        "        self.normalize = normalize\n",
        "        self.normalizer = Normalizer()\n",
        "        self.verbose = verbose\n",
        "        self.loss_history = []\n",
        "\n",
        "    def _fit(self, X, Y, reset=True, track_loss=True):\n",
        "        if reset:\n",
        "            self.w = None\n",
        "\n",
        "        if self.normalize:\n",
        "            self.normalizer.fit(X)\n",
        "            X = self.normalizer.predict(X)\n",
        "        \n",
        "        X_padded = self.pad(np.array(X)) \n",
        "\n",
        "        if self.w is None:\n",
        "            self.w = np.zeros(X_padded.shape[1])\n",
        "\n",
        "        for i in range(self.num_iterations):\n",
        "            loss = self._step(X_padded, Y)\n",
        "            self.loss_history.append(loss)\n",
        "\n",
        "            if self.verbose and i % 100 == 0:\n",
        "                print(f'Iteration {i}, Loss: {loss}')\n",
        "\n",
        "            if self.early_stop and i > 0 and np.abs(self.loss_history[-1] - self.loss_history[-2]) < 1e-5:\n",
        "                if self.verbose:\n",
        "                    print(f'Early stopping at iteration {i}')\n",
        "                break\n",
        "\n",
        "    def _predict(self, X):\n",
        "        if self.normalize:\n",
        "            X = self.normalizer.predict(X)\n",
        "        return super()._predict(X)\n",
        "\n",
        "    def _step(self, X, Y):\n",
        "        self.w = self.w - self.learning_rate * (1/X.shape[0]) * (X @ self.w - Y) @ X\n",
        "        loss = np.mean((X @ self.w - Y)**2)\n",
        "        return loss\n",
        "    \n",
        "    def plot_convergence(self):\n",
        "        loss_history = self.loss_history\n",
        "        plt.plot(range(1, len(loss_history) + 1), loss_history)\n",
        "        plt.xlabel('Iteration')\n",
        "        plt.ylabel('Mean Squared Error')\n",
        "        plt.title('Convergence')\n",
        "        plt.show()"
      ]
    },
    {
      "cell_type": "code",
      "execution_count": 11,
      "metadata": {},
      "outputs": [
        {
          "name": "stdout",
          "output_type": "stream",
          "text": [
            "Iteration 0, Loss: 585.892683551985\n",
            "Iteration 100, Loss: 94.7433085683754\n",
            "Iteration 200, Loss: 33.067803750880685\n",
            "Iteration 300, Loss: 24.534711581737717\n",
            "Iteration 400, Loss: 23.1580947741157\n",
            "Iteration 500, Loss: 22.806277030616922\n",
            "Iteration 600, Loss: 22.63679646042554\n",
            "Iteration 700, Loss: 22.522339539462735\n",
            "Iteration 800, Loss: 22.436658079117105\n",
            "Iteration 900, Loss: 22.37015844558012\n"
          ]
        },
        {
          "data": {
            "image/png": "[encoded data removed]",
            "text/plain": [
              "<Figure size 640x480 with 1 Axes>"
            ]
          },
          "metadata": {},
          "output_type": "display_data"
        },
        {
          "name": "stdout",
          "output_type": "stream",
          "text": [
            "Mean Squared Error on the test set (Gradient Descent): 25.182284395151445\n"
          ]
        }
      ],
      "source": [
        "# Create an instance of OrdinaryLinearRegressionGradientDescent\n",
        "model_gd = OlsGd(learning_rate=0.01, num_iterations=1000)\n",
        "\n",
        "# Train the model using gradient descent\n",
        "model_gd.fit(X_train_n, y_train_n)\n",
        "\n",
        "# Plot the convergence\n",
        "model_gd.plot_convergence()\n",
        "\n",
        "# Make predictions on the test set\n",
        "y_pred_gd = model_gd.predict(X_test)\n",
        "\n",
        "# Evaluate the model's performance using MSE\n",
        "mse_gd = model_gd.score(X_test, y_test)\n",
        "\n",
        "print(f'Mean Squared Error on the test set (Gradient Descent): {mse_gd}')"
      ]
    },
    {
      "cell_type": "markdown",
      "metadata": {
        "id": "7HVfnXvZFi98"
      },
      "source": [
        "## Exercise 2 - Ridge Linear Regression\n",
        "\n",
        "Recall that ridge regression is identical to OLS but with a L2 penalty over the weights:\n",
        "\n",
        "$L(y,\\hat{y})=\\sum_{i=1}^{i=N}{(y^{(i)}-\\hat{y}^{(i)})^2} + \\lambda \\left\\Vert w \\right\\Vert_2^2$\n",
        "\n",
        "where $y^{(i)}$ is the **true** value and $\\hat{y}^{(i)}$ is the **predicted** value of the $i_{th}$ example, and $N$ is the number of examples\n",
        "\n",
        "* Show, by differentiating the above loss, that the analytical solution is $w_{Ridge}=(X^TX+\\lambda I)^{-1}X^Ty$\n",
        "* Change `OrdinaryLinearRegression` and `OrdinaryLinearRegressionGradientDescent` classes to work also for ridge regression. Either add a parameter, or use inheritance.\n",
        "* **Bonus: Noise as a regularizer**: Show that OLS (ordinary least square), if one adds multiplicative noise to the features the **average** solution for $W$ is equivalent to Ridge regression. In other words, if $X'= X*G$ where $G$ is an uncorrelated noise with variance $\\sigma$ and mean 1, then solving for $X'$ with OLS is like solving Ridge for $X$. What is the interpretation?\n",
        "\n"
      ]
    },
    {
      "cell_type": "code",
      "execution_count": 12,
      "metadata": {
        "id": "x4v0foNX1eiu"
      },
      "outputs": [],
      "source": [
        "# OLR works for ridge regression\n",
        "class RidgeLs(Ols):\n",
        "  def __init__(self, ridge_lambda, *wargs, **kwargs):\n",
        "    super(RidgeLs,self).__init__(*wargs, **kwargs)\n",
        "    self.ridge_lambda = ridge_lambda\n",
        "\n",
        "  def _fit(self, X, Y):\n",
        "    #Closed form of ridge regression\n",
        "    X_padded = self.pad(np.array(X))\n",
        "    identity_matrix = np.identity(X_padded.shape[1])\n",
        "    regularization_term = self.ridge_lambda * identity_matrix\n",
        "    self.w = np.linalg.inv(X_padded.T @ X_padded + regularization_term) @ X_padded.T @ Y\n",
        "\n",
        "# OLR with a gradient descent works for ridge regression\n",
        "class RidgeLsGd(OlsGd):\n",
        "  def __init__(self, ridge_lambda, *wargs, **kwargs):\n",
        "    super(RidgeLsGd,self).__init__(*wargs, **kwargs)\n",
        "    self.ridge_lambda = ridge_lambda\n",
        "\n",
        "\n",
        "  def _step(self, X, Y):\n",
        "          self.w = self.w - (self.learning_rate * (1/X.shape[0]) * (X @ self.w - Y) @ X + self.w * self.ridge_lambda)\n",
        "          loss = np.mean((X @ self.w - Y)**2) + self.ridge_lambda * self.w @ self.w\n",
        "          return loss\n"
      ]
    },
    {
      "cell_type": "code",
      "execution_count": 13,
      "metadata": {},
      "outputs": [
        {
          "data": {
            "text/plain": [
              "25.871062881317382"
            ]
          },
          "execution_count": 13,
          "metadata": {},
          "output_type": "execute_result"
        }
      ],
      "source": [
        "# check\n",
        "mrls = RidgeLs(0.1)\n",
        "mrls.fit(X_train_n, y_train_n)\n",
        "mrls.score(X_test, y_test)"
      ]
    },
    {
      "cell_type": "code",
      "execution_count": 14,
      "metadata": {},
      "outputs": [
        {
          "name": "stdout",
          "output_type": "stream",
          "text": [
            "Iteration 0, Loss: 531.2067715737559\n",
            "Iteration 100, Loss: 24.889704374085046\n",
            "Iteration 200, Loss: 24.301894141712598\n",
            "Iteration 300, Loss: 24.170650113498628\n",
            "Iteration 400, Loss: 24.114417568618087\n",
            "Iteration 500, Loss: 24.086259430007576\n",
            "Iteration 600, Loss: 24.070917880157243\n",
            "Iteration 700, Loss: 24.062109554651816\n",
            "Iteration 800, Loss: 24.056881074213372\n",
            "Iteration 900, Loss: 24.053712058345127\n"
          ]
        },
        {
          "data": {
            "text/plain": [
              "25.57216564612153"
            ]
          },
          "execution_count": 14,
          "metadata": {},
          "output_type": "execute_result"
        }
      ],
      "source": [
        "# check. Note: It works only for very small ridge_lambda, \n",
        "# because we want to apply only small regularization in every step, otherwise it affects badly\n",
        "mrlsg = RidgeLsGd(ridge_lambda=0.002, early_stop=False, num_iterations=1000)\n",
        "mrlsg.fit(X_train_n, y_train_n)\n",
        "mrlsg.score(X_test, y_test)"
      ]
    },
    {
      "cell_type": "code",
      "execution_count": 15,
      "metadata": {},
      "outputs": [
        {
          "name": "stdout",
          "output_type": "stream",
          "text": [
            "[ 2.77672269e+01 -3.00732546e-01  4.23170952e-02  4.78759162e-02\n",
            "  4.27894438e+00 -1.48402671e+01  4.44860271e+00 -5.28348282e-03\n",
            " -1.45105425e+00  3.66464516e-01 -1.17846580e-02 -8.84674239e-01\n",
            "  1.66561009e-02 -5.38495546e-01]\n",
            "[22.72487642 -0.53689123  0.7894709  -0.10876967  1.03695092 -1.36700549\n",
            "  3.11291724 -0.23348991 -2.62286069  1.4513894  -0.65086352 -1.74493047\n",
            "  1.42197292 -3.59900101]\n"
          ]
        }
      ],
      "source": [
        "# * **Bonus: Noise as a regularizer**: Show that OLS (ordinary least square), if one adds multiplicative noise \n",
        "# to the features the **average** solution for $W$ is equivalent to Ridge regression. In other words, \n",
        "# if $X'= X*G$ where $G$ is an uncorrelated noise with variance $\\sigma$ and mean 1, then solving for $X'$ \n",
        "# with OLS is like solving Ridge for $X$. What is the interpretation?\n",
        "\n",
        "ols_sol = []\n",
        "for _ in (range(10)):\n",
        "    G = np.random.normal(loc=1, scale=0.1, size=(X_train_n.shape[1],))\n",
        "    X_train_noise = X_train_n*G\n",
        "    model_ols_noise = Ols()\n",
        "    model_ols_noise.fit(X_train_noise, y_train_n)\n",
        "    ols_sol.append(model_ols_noise.w)\n",
        "\n",
        "avg_w = np.array(ols_sol).mean(axis=0)\n",
        "print(avg_w)\n",
        "\n",
        "print(model_gd.w)\n",
        "# model_ols_noise = Ols()\n",
        "\n",
        "# # Train the model\n",
        "# model_ols_noise.fit(X_train_noise, y_train)\n",
        "\n",
        "# # Make predictions on the test set\n",
        "# y_pred = model.predict(X_train_noise)\n",
        "\n",
        "# # Evaluate the model's performance using MSE\n",
        "# mse = model.score(X_train, y_train)\n"
      ]
    },
    {
      "cell_type": "markdown",
      "metadata": {
        "id": "fAj1Qxoc1eiu"
      },
      "source": [
        "### Use scikitlearn implementation for OLS, Ridge and Lasso"
      ]
    },
    {
      "cell_type": "code",
      "execution_count": 16,
      "metadata": {
        "id": "GozQEKRw1eiu"
      },
      "outputs": [],
      "source": [
        "from sklearn import linear_model\n",
        "from sklearn.metrics import mean_squared_error"
      ]
    },
    {
      "cell_type": "code",
      "execution_count": 17,
      "metadata": {},
      "outputs": [
        {
          "name": "stdout",
          "output_type": "stream",
          "text": [
            "MSE for OLS: 25.467198550628904\n",
            "MSE for Ridge: 25.464991478765786\n",
            "MSE for Lasso: 25.004933025387285\n"
          ]
        }
      ],
      "source": [
        "# OLS\n",
        "ols_model = linear_model.LinearRegression()\n",
        "ols_model.fit(X_train_n, y_train_n)\n",
        "\n",
        "# Make predictions on the test set\n",
        "y_pred_ols = ols_model.predict(X_test)\n",
        "\n",
        "# Evaluate the model's performance using MSE\n",
        "print(f'MSE for OLS: {mean_squared_error(y_test, y_pred_ols)}')\n",
        "\n",
        "# Ridge\n",
        "ridge_model = linear_model.Ridge(alpha=0.1)\n",
        "ridge_model.fit(X_train_n, y_train_n)\n",
        "\n",
        "# Make predictions on the test set\n",
        "y_pred_ridge = ridge_model.predict(X_test)\n",
        "\n",
        "# Evaluate the model's performance using MSE\n",
        "print(f'MSE for Ridge: {mean_squared_error(y_test, y_pred_ridge)}')\n",
        "\n",
        "# Lasso\n",
        "lasso_model = linear_model.Lasso(alpha=0.1)\n",
        "lasso_model.fit(X_train_n, y_train_n)\n",
        "\n",
        "# Make predictions on the test set\n",
        "y_pred_lasso = lasso_model.predict(X_test)\n",
        "\n",
        "# Evaluate the model's performance using MSE\n",
        "print(f'MSE for Lasso: {mean_squared_error(y_test, y_pred_lasso)}')"
      ]
    }
  ],
  "metadata": {
    "colab": {
      "provenance": []
    },
    "kernelspec": {
      "display_name": "Python 3",
      "language": "python",
      "name": "python3"
    },
    "language_info": {
      "codemirror_mode": {
        "name": "ipython",
        "version": 3
      },
      "file_extension": ".py",
      "mimetype": "text/x-python",
      "name": "python",
      "nbconvert_exporter": "python",
      "pygments_lexer": "ipython3",
      "version": "3.10.13"
    }
  },
  "nbformat": 4,
  "nbformat_minor": 0
}
